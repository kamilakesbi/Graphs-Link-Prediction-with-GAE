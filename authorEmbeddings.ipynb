{
  "cells": [
    {
      "cell_type": "code",
      "execution_count": 1,
      "metadata": {
        "colab": {
          "base_uri": "https://localhost:8080/"
        },
        "id": "mIgYqBoAcQZ_",
        "outputId": "e0719fb9-6de4-4987-e636-d5c855993cca"
      },
      "outputs": [
        {
          "name": "stdout",
          "output_type": "stream",
          "text": [
            "Mounted at /content/gdrive\n",
            "/content/gdrive/MyDrive/MVA/Altegrad/Kaggle2\n"
          ]
        }
      ],
      "source": [
        "# from google.colab import drive\n",
        "# drive.mount('/content/gdrive')\n",
        "# %cd /content/gdrive/MyDrive/MVA/Altegrad/Kaggle2"
      ]
    },
    {
      "cell_type": "code",
      "execution_count": 2,
      "metadata": {
        "colab": {
          "base_uri": "https://localhost:8080/"
        },
        "id": "WORHGQZGcWQe",
        "outputId": "345e5329-74dd-4152-dad1-82e0943bb7d8"
      },
      "outputs": [
        {
          "name": "stdout",
          "output_type": "stream",
          "text": [
            "\u001b[K     |████████████████████████████████| 7.9 MB 9.6 MB/s \n",
            "\u001b[K     |████████████████████████████████| 3.5 MB 7.1 MB/s \n",
            "\u001b[K     |████████████████████████████████| 2.3 MB 9.1 MB/s \n",
            "\u001b[K     |████████████████████████████████| 145 kB 7.9 MB/s \n",
            "\u001b[K     |████████████████████████████████| 112 kB 67.0 MB/s \n",
            "\u001b[K     |████████████████████████████████| 74 kB 4.3 MB/s \n",
            "\u001b[K     |████████████████████████████████| 596 kB 71.7 MB/s \n",
            "\u001b[?25h  Building wheel for torch-geometric (setup.py) ... \u001b[?25l\u001b[?25hdone\n",
            "  Building wheel for antlr4-python3-runtime (setup.py) ... \u001b[?25l\u001b[?25hdone\n",
            "Collecting dgl\n",
            "  Downloading dgl-0.6.1-cp37-cp37m-manylinux1_x86_64.whl (4.4 MB)\n",
            "\u001b[K     |████████████████████████████████| 4.4 MB 8.3 MB/s \n",
            "\u001b[?25hRequirement already satisfied: scipy>=1.1.0 in /usr/local/lib/python3.7/dist-packages (from dgl) (1.4.1)\n",
            "Requirement already satisfied: networkx>=2.1 in /usr/local/lib/python3.7/dist-packages (from dgl) (2.6.3)\n",
            "Requirement already satisfied: requests>=2.19.0 in /usr/local/lib/python3.7/dist-packages (from dgl) (2.23.0)\n",
            "Requirement already satisfied: numpy>=1.14.0 in /usr/local/lib/python3.7/dist-packages (from dgl) (1.21.5)\n",
            "Requirement already satisfied: urllib3!=1.25.0,!=1.25.1,<1.26,>=1.21.1 in /usr/local/lib/python3.7/dist-packages (from requests>=2.19.0->dgl) (1.24.3)\n",
            "Requirement already satisfied: certifi>=2017.4.17 in /usr/local/lib/python3.7/dist-packages (from requests>=2.19.0->dgl) (2021.10.8)\n",
            "Requirement already satisfied: idna<3,>=2.5 in /usr/local/lib/python3.7/dist-packages (from requests>=2.19.0->dgl) (2.10)\n",
            "Requirement already satisfied: chardet<4,>=3.0.2 in /usr/local/lib/python3.7/dist-packages (from requests>=2.19.0->dgl) (3.0.4)\n",
            "Installing collected packages: dgl\n",
            "Successfully installed dgl-0.6.1\n",
            "Requirement already satisfied: gensim in /usr/local/lib/python3.7/dist-packages (3.6.0)\n",
            "Requirement already satisfied: scipy>=0.18.1 in /usr/local/lib/python3.7/dist-packages (from gensim) (1.4.1)\n",
            "Requirement already satisfied: smart-open>=1.2.1 in /usr/local/lib/python3.7/dist-packages (from gensim) (5.2.1)\n",
            "Requirement already satisfied: six>=1.5.0 in /usr/local/lib/python3.7/dist-packages (from gensim) (1.15.0)\n",
            "Requirement already satisfied: numpy>=1.11.3 in /usr/local/lib/python3.7/dist-packages (from gensim) (1.21.5)\n",
            "Collecting node2vec\n",
            "  Downloading node2vec-0.4.3.tar.gz (4.6 kB)\n",
            "Requirement already satisfied: networkx in /usr/local/lib/python3.7/dist-packages (from node2vec) (2.6.3)\n",
            "Requirement already satisfied: gensim in /usr/local/lib/python3.7/dist-packages (from node2vec) (3.6.0)\n",
            "Requirement already satisfied: numpy in /usr/local/lib/python3.7/dist-packages (from node2vec) (1.21.5)\n",
            "Requirement already satisfied: tqdm in /usr/local/lib/python3.7/dist-packages (from node2vec) (4.62.3)\n",
            "Requirement already satisfied: joblib>=0.13.2 in /usr/local/lib/python3.7/dist-packages (from node2vec) (1.1.0)\n",
            "Requirement already satisfied: smart-open>=1.2.1 in /usr/local/lib/python3.7/dist-packages (from gensim->node2vec) (5.2.1)\n",
            "Requirement already satisfied: scipy>=0.18.1 in /usr/local/lib/python3.7/dist-packages (from gensim->node2vec) (1.4.1)\n",
            "Requirement already satisfied: six>=1.5.0 in /usr/local/lib/python3.7/dist-packages (from gensim->node2vec) (1.15.0)\n",
            "Building wheels for collected packages: node2vec\n",
            "  Building wheel for node2vec (setup.py) ... \u001b[?25l\u001b[?25hdone\n",
            "  Created wheel for node2vec: filename=node2vec-0.4.3-py3-none-any.whl size=5980 sha256=cb3b0fdf470c30e3aacc1eec5b64f9bcfa1ff5b12c93cda431c4d1c328d21e8e\n",
            "  Stored in directory: /root/.cache/pip/wheels/07/62/78/5202cb8c03cbf1593b48a8a442fca8ceec2a8c80e22318bae9\n",
            "Successfully built node2vec\n",
            "Installing collected packages: node2vec\n",
            "Successfully installed node2vec-0.4.3\n"
          ]
        }
      ],
      "source": [
        "# Install required packages.\n",
        "!pip install -q torch-scatter -f https://data.pyg.org/whl/torch-1.10.0+cu113.html\n",
        "!pip install -q torch-sparse -f https://data.pyg.org/whl/torch-1.10.0+cu113.html\n",
        "!pip install -q torch-cluster -f https://data.pyg.org/whl/torch-1.10.0+cu113.html\n",
        "!pip install -q git+https://github.com/pyg-team/pytorch_geometric.git\n",
        "\n",
        "!pip install dgl \n",
        "!pip install gensim\n",
        "!pip install node2vec"
      ]
    },
    {
      "cell_type": "code",
      "execution_count": 3,
      "metadata": {
        "colab": {
          "base_uri": "https://localhost:8080/"
        },
        "id": "YOy7dhJHcbxv",
        "outputId": "af6eb20a-b52f-49b9-d4f8-501898d276f7"
      },
      "outputs": [
        {
          "name": "stderr",
          "output_type": "stream",
          "text": [
            "DGL backend not selected or invalid.  Assuming PyTorch for now.\n"
          ]
        },
        {
          "name": "stdout",
          "output_type": "stream",
          "text": [
            "Setting the default backend to \"pytorch\". You can change it in the ~/.dgl/config.json file or export the DGLBACKEND environment variable.  Valid options are: pytorch, mxnet, tensorflow (all lowercase)\n"
          ]
        },
        {
          "name": "stderr",
          "output_type": "stream",
          "text": [
            "Using backend: pytorch\n"
          ]
        }
      ],
      "source": [
        "import pandas as pd\n",
        "import networkx as nx\n",
        "import csv\n",
        "import numpy as np\n",
        "from random import randint\n",
        "import dgl\n",
        "import torch\n",
        "import torch.nn as nn\n",
        "import torch.nn.functional as F\n",
        "import numpy as np\n",
        "import scipy.sparse as sp\n",
        "from tqdm import tqdm\n",
        "\n",
        "from torch_geometric.utils.convert import from_networkx\n",
        "#from torch_geometric.nn import Node2Vec\n",
        "\n",
        "\n",
        "from preprocessing import read_graph, retrieve_subgraph\n",
        "from gensim.models.doc2vec import Doc2Vec"
      ]
    },
    {
      "cell_type": "code",
      "execution_count": 33,
      "metadata": {
        "id": "GnZnx41Iqwba"
      },
      "outputs": [],
      "source": [
        "import matplotlib.pyplot as plt "
      ]
    },
    {
      "cell_type": "markdown",
      "metadata": {
        "id": "VUaRAYw-dLQW"
      },
      "source": [
        "## Constructing Authors Graph : "
      ]
    },
    {
      "cell_type": "code",
      "execution_count": 99,
      "metadata": {
        "colab": {
          "base_uri": "https://localhost:8080/"
        },
        "id": "Xo0AHiMscfya",
        "outputId": "5646d14b-0855-4042-90bb-9830622d7cb2"
      },
      "outputs": [
        {
          "name": "stdout",
          "output_type": "stream",
          "text": [
            "Number of nodes: 138499\n",
            "Number of edges: 1091955\n",
            "Number of authors : 174961\n"
          ]
        }
      ],
      "source": [
        "G, abstracts, text_per_author, author_per_text = read_graph()"
      ]
    },
    {
      "cell_type": "code",
      "execution_count": 100,
      "metadata": {
        "id": "kSmS-6b3ckm_"
      },
      "outputs": [],
      "source": [
        "def create_author_graph(text_per_author, author_per_text):\n",
        "  G_authors = nx.Graph()\n",
        "  for author in text_per_author.keys(): \n",
        "    G_authors.add_node(author)\n",
        "\n",
        "  for text in author_per_text.keys(): \n",
        "    for aut1 in author_per_text[text]: \n",
        "      for aut2 in author_per_text[text]: \n",
        "        if aut1 != aut2 : \n",
        "          #if G_authors.has_edge(aut1, aut2):\n",
        "          if G_authors.has_edge(aut1, aut2) == False : \n",
        "            G_authors.add_edge(aut1, aut2, weight = 1/2)\n",
        "          else : \n",
        "            G_authors[aut1][aut2]['weight']+=1/2\n",
        "  return G_authors"
      ]
    },
    {
      "cell_type": "code",
      "execution_count": 101,
      "metadata": {
        "id": "Cjxpdny5coWX"
      },
      "outputs": [],
      "source": [
        "G_authors = create_author_graph(text_per_author, author_per_text)"
      ]
    },
    {
      "cell_type": "code",
      "execution_count": 102,
      "metadata": {
        "colab": {
          "base_uri": "https://localhost:8080/"
        },
        "id": "5rI18M_dcpXB",
        "outputId": "6505233b-37cd-4d60-f66f-52783d64275c"
      },
      "outputs": [
        {
          "name": "stdout",
          "output_type": "stream",
          "text": [
            "The minimum degree of the nodes in the graph is : 0\n",
            "The maximum degree of the nodes in the graph is : 677\n",
            "The mean degree of the nodes in the graph is : 6.504683900983648\n",
            "The median degree of the nodes in the graph is : 4.0\n"
          ]
        }
      ],
      "source": [
        "degree_sequence = np.array([G_authors.degree(node) for node in G_authors.nodes()])\n",
        "min_nb_nodes = 0\n",
        "print('The minimum degree of the nodes in the graph is :', min(degree_sequence))\n",
        "print('The maximum degree of the nodes in the graph is :', max(degree_sequence))\n",
        "print('The mean degree of the nodes in the graph is :', np.mean(degree_sequence))\n",
        "print('The median degree of the nodes in the graph is :', np.median(degree_sequence))"
      ]
    },
    {
      "cell_type": "code",
      "execution_count": 103,
      "metadata": {
        "id": "CiFHxnMTc_95"
      },
      "outputs": [],
      "source": [
        "for i, node in enumerate(G_authors.nodes()):\n",
        "    G_authors.nodes[str(node)]['id'] = i\n",
        "G_authors_train = from_networkx(G_authors) # already undirected"
      ]
    },
    {
      "cell_type": "code",
      "execution_count": 104,
      "metadata": {
        "colab": {
          "base_uri": "https://localhost:8080/"
        },
        "id": "chp4z7d-dHnw",
        "outputId": "e1d7b1c1-ace9-426e-a1d9-c77e5f2fdf7b"
      },
      "outputs": [
        {
          "name": "stderr",
          "output_type": "stream",
          "text": [
            "/usr/local/lib/python3.7/dist-packages/torch/utils/data/dataloader.py:481: UserWarning: This DataLoader will create 4 worker processes in total. Our suggested max number of worker in current system is 2, which is smaller than what this DataLoader is going to create. Please be aware that excessive worker creation might get DataLoader running slow or even freeze, lower the worker number to avoid potential slowness/freeze if necessary.\n",
            "  cpuset_checked))\n"
          ]
        }
      ],
      "source": [
        "device = 'cuda' if torch.cuda.is_available() else 'cpu'\n",
        "model = Node2Vec(G_authors_train.edge_index, embedding_dim= 64, walk_length=30,\n",
        "                    context_size=10, walks_per_node=20,\n",
        "                    num_negative_samples=1, p=1, q=1, sparse=True).to(device)\n",
        "\n",
        "loader = model.loader(batch_size=128, shuffle=True, num_workers=4)\n",
        "optimizer = torch.optim.SparseAdam(list(model.parameters()), lr=0.01)"
      ]
    },
    {
      "cell_type": "code",
      "execution_count": 105,
      "metadata": {
        "id": "IGPBB5rBdSNp"
      },
      "outputs": [],
      "source": [
        "def train():\n",
        "    model.train()\n",
        "    total_loss = 0\n",
        "    for pos_rw, neg_rw in loader:\n",
        "        optimizer.zero_grad()\n",
        "        loss = model.loss(pos_rw.to(device), neg_rw.to(device))\n",
        "        loss.backward()\n",
        "        optimizer.step()\n",
        "        total_loss += loss.item()\n",
        "    return total_loss / len(loader)\n",
        "\n",
        "# @torch.no_grad()\n",
        "# def test():\n",
        "#     model.eval()\n",
        "#     z = model()\n",
        "#     acc = model.test(z[G_authors.train_mask], G_authors.y[G_authors.train_mask],\n",
        "#                         z[G_authors.test_mask], G_authors.y[G_authors.test_mask],\n",
        "#                         max_iter=150)\n",
        "#     return acc"
      ]
    },
    {
      "cell_type": "code",
      "execution_count": 106,
      "metadata": {
        "colab": {
          "base_uri": "https://localhost:8080/",
          "height": 765
        },
        "id": "Yu-diTj5dXCU",
        "outputId": "2625545f-75af-4315-c67d-9a2eb0afbe5a"
      },
      "outputs": [
        {
          "name": "stderr",
          "output_type": "stream",
          "text": [
            "/usr/local/lib/python3.7/dist-packages/torch/utils/data/dataloader.py:481: UserWarning: This DataLoader will create 4 worker processes in total. Our suggested max number of worker in current system is 2, which is smaller than what this DataLoader is going to create. Please be aware that excessive worker creation might get DataLoader running slow or even freeze, lower the worker number to avoid potential slowness/freeze if necessary.\n",
            "  cpuset_checked))\n"
          ]
        },
        {
          "name": "stdout",
          "output_type": "stream",
          "text": [
            "Epoch: 01, Loss: 1.8289\n",
            "Epoch: 02, Loss: 0.8922\n",
            "Epoch: 03, Loss: 0.8455\n",
            "Epoch: 04, Loss: 0.8295\n",
            "Epoch: 05, Loss: 0.8209\n",
            "Epoch: 06, Loss: 0.8156\n",
            "Epoch: 07, Loss: 0.8122\n",
            "Epoch: 08, Loss: 0.8099\n",
            "Epoch: 09, Loss: 0.8085\n",
            "Epoch: 10, Loss: 0.8076\n",
            "Epoch: 11, Loss: 0.8071\n",
            "Epoch: 12, Loss: 0.8067\n",
            "Epoch: 13, Loss: 0.8066\n",
            "Epoch: 14, Loss: 0.8065\n",
            "Epoch: 15, Loss: 0.8064\n",
            "Epoch: 16, Loss: 0.8065\n",
            "Epoch: 17, Loss: 0.8063\n",
            "Epoch: 18, Loss: 0.8063\n",
            "Epoch: 19, Loss: 0.8062\n"
          ]
        },
        {
          "ename": "KeyboardInterrupt",
          "evalue": "ignored",
          "output_type": "error",
          "traceback": [
            "\u001b[0;31m---------------------------------------------------------------------------\u001b[0m",
            "\u001b[0;31mKeyboardInterrupt\u001b[0m                         Traceback (most recent call last)",
            "\u001b[0;32m<ipython-input-106-f56ad7cbe8c8>\u001b[0m in \u001b[0;36m<module>\u001b[0;34m()\u001b[0m\n\u001b[1;32m      1\u001b[0m \u001b[0mlosses\u001b[0m \u001b[0;34m=\u001b[0m \u001b[0;34m[\u001b[0m\u001b[0;34m]\u001b[0m\u001b[0;34m\u001b[0m\u001b[0;34m\u001b[0m\u001b[0m\n\u001b[1;32m      2\u001b[0m \u001b[0;32mfor\u001b[0m \u001b[0mepoch\u001b[0m \u001b[0;32min\u001b[0m \u001b[0mrange\u001b[0m\u001b[0;34m(\u001b[0m\u001b[0;36m1\u001b[0m\u001b[0;34m,\u001b[0m \u001b[0;36m40\u001b[0m\u001b[0;34m)\u001b[0m\u001b[0;34m:\u001b[0m\u001b[0;34m\u001b[0m\u001b[0;34m\u001b[0m\u001b[0m\n\u001b[0;32m----> 3\u001b[0;31m     \u001b[0mloss\u001b[0m \u001b[0;34m=\u001b[0m \u001b[0mtrain\u001b[0m\u001b[0;34m(\u001b[0m\u001b[0;34m)\u001b[0m\u001b[0;34m\u001b[0m\u001b[0;34m\u001b[0m\u001b[0m\n\u001b[0m\u001b[1;32m      4\u001b[0m     \u001b[0mlosses\u001b[0m\u001b[0;34m.\u001b[0m\u001b[0mappend\u001b[0m\u001b[0;34m(\u001b[0m\u001b[0mloss\u001b[0m\u001b[0;34m)\u001b[0m\u001b[0;34m\u001b[0m\u001b[0;34m\u001b[0m\u001b[0m\n\u001b[1;32m      5\u001b[0m     \u001b[0mprint\u001b[0m\u001b[0;34m(\u001b[0m\u001b[0;34mf'Epoch: {epoch:02d}, Loss: {loss:.4f}'\u001b[0m\u001b[0;34m)\u001b[0m\u001b[0;34m\u001b[0m\u001b[0;34m\u001b[0m\u001b[0m\n",
            "\u001b[0;32m<ipython-input-105-d776382036b7>\u001b[0m in \u001b[0;36mtrain\u001b[0;34m()\u001b[0m\n\u001b[1;32m      6\u001b[0m         \u001b[0mloss\u001b[0m \u001b[0;34m=\u001b[0m \u001b[0mmodel\u001b[0m\u001b[0;34m.\u001b[0m\u001b[0mloss\u001b[0m\u001b[0;34m(\u001b[0m\u001b[0mpos_rw\u001b[0m\u001b[0;34m.\u001b[0m\u001b[0mto\u001b[0m\u001b[0;34m(\u001b[0m\u001b[0mdevice\u001b[0m\u001b[0;34m)\u001b[0m\u001b[0;34m,\u001b[0m \u001b[0mneg_rw\u001b[0m\u001b[0;34m.\u001b[0m\u001b[0mto\u001b[0m\u001b[0;34m(\u001b[0m\u001b[0mdevice\u001b[0m\u001b[0;34m)\u001b[0m\u001b[0;34m)\u001b[0m\u001b[0;34m\u001b[0m\u001b[0;34m\u001b[0m\u001b[0m\n\u001b[1;32m      7\u001b[0m         \u001b[0mloss\u001b[0m\u001b[0;34m.\u001b[0m\u001b[0mbackward\u001b[0m\u001b[0;34m(\u001b[0m\u001b[0;34m)\u001b[0m\u001b[0;34m\u001b[0m\u001b[0;34m\u001b[0m\u001b[0m\n\u001b[0;32m----> 8\u001b[0;31m         \u001b[0moptimizer\u001b[0m\u001b[0;34m.\u001b[0m\u001b[0mstep\u001b[0m\u001b[0;34m(\u001b[0m\u001b[0;34m)\u001b[0m\u001b[0;34m\u001b[0m\u001b[0;34m\u001b[0m\u001b[0m\n\u001b[0m\u001b[1;32m      9\u001b[0m         \u001b[0mtotal_loss\u001b[0m \u001b[0;34m+=\u001b[0m \u001b[0mloss\u001b[0m\u001b[0;34m.\u001b[0m\u001b[0mitem\u001b[0m\u001b[0;34m(\u001b[0m\u001b[0;34m)\u001b[0m\u001b[0;34m\u001b[0m\u001b[0;34m\u001b[0m\u001b[0m\n\u001b[1;32m     10\u001b[0m     \u001b[0;32mreturn\u001b[0m \u001b[0mtotal_loss\u001b[0m \u001b[0;34m/\u001b[0m \u001b[0mlen\u001b[0m\u001b[0;34m(\u001b[0m\u001b[0mloader\u001b[0m\u001b[0;34m)\u001b[0m\u001b[0;34m\u001b[0m\u001b[0;34m\u001b[0m\u001b[0m\n",
            "\u001b[0;32m/usr/local/lib/python3.7/dist-packages/torch/optim/optimizer.py\u001b[0m in \u001b[0;36mwrapper\u001b[0;34m(*args, **kwargs)\u001b[0m\n\u001b[1;32m     86\u001b[0m                 \u001b[0mprofile_name\u001b[0m \u001b[0;34m=\u001b[0m \u001b[0;34m\"Optimizer.step#{}.step\"\u001b[0m\u001b[0;34m.\u001b[0m\u001b[0mformat\u001b[0m\u001b[0;34m(\u001b[0m\u001b[0mobj\u001b[0m\u001b[0;34m.\u001b[0m\u001b[0m__class__\u001b[0m\u001b[0;34m.\u001b[0m\u001b[0m__name__\u001b[0m\u001b[0;34m)\u001b[0m\u001b[0;34m\u001b[0m\u001b[0;34m\u001b[0m\u001b[0m\n\u001b[1;32m     87\u001b[0m                 \u001b[0;32mwith\u001b[0m \u001b[0mtorch\u001b[0m\u001b[0;34m.\u001b[0m\u001b[0mautograd\u001b[0m\u001b[0;34m.\u001b[0m\u001b[0mprofiler\u001b[0m\u001b[0;34m.\u001b[0m\u001b[0mrecord_function\u001b[0m\u001b[0;34m(\u001b[0m\u001b[0mprofile_name\u001b[0m\u001b[0;34m)\u001b[0m\u001b[0;34m:\u001b[0m\u001b[0;34m\u001b[0m\u001b[0;34m\u001b[0m\u001b[0m\n\u001b[0;32m---> 88\u001b[0;31m                     \u001b[0;32mreturn\u001b[0m \u001b[0mfunc\u001b[0m\u001b[0;34m(\u001b[0m\u001b[0;34m*\u001b[0m\u001b[0margs\u001b[0m\u001b[0;34m,\u001b[0m \u001b[0;34m**\u001b[0m\u001b[0mkwargs\u001b[0m\u001b[0;34m)\u001b[0m\u001b[0;34m\u001b[0m\u001b[0;34m\u001b[0m\u001b[0m\n\u001b[0m\u001b[1;32m     89\u001b[0m             \u001b[0;32mreturn\u001b[0m \u001b[0mwrapper\u001b[0m\u001b[0;34m\u001b[0m\u001b[0;34m\u001b[0m\u001b[0m\n\u001b[1;32m     90\u001b[0m \u001b[0;34m\u001b[0m\u001b[0m\n",
            "\u001b[0;32m/usr/local/lib/python3.7/dist-packages/torch/autograd/grad_mode.py\u001b[0m in \u001b[0;36mdecorate_context\u001b[0;34m(*args, **kwargs)\u001b[0m\n\u001b[1;32m     26\u001b[0m         \u001b[0;32mdef\u001b[0m \u001b[0mdecorate_context\u001b[0m\u001b[0;34m(\u001b[0m\u001b[0;34m*\u001b[0m\u001b[0margs\u001b[0m\u001b[0;34m,\u001b[0m \u001b[0;34m**\u001b[0m\u001b[0mkwargs\u001b[0m\u001b[0;34m)\u001b[0m\u001b[0;34m:\u001b[0m\u001b[0;34m\u001b[0m\u001b[0;34m\u001b[0m\u001b[0m\n\u001b[1;32m     27\u001b[0m             \u001b[0;32mwith\u001b[0m \u001b[0mself\u001b[0m\u001b[0;34m.\u001b[0m\u001b[0m__class__\u001b[0m\u001b[0;34m(\u001b[0m\u001b[0;34m)\u001b[0m\u001b[0;34m:\u001b[0m\u001b[0;34m\u001b[0m\u001b[0;34m\u001b[0m\u001b[0m\n\u001b[0;32m---> 28\u001b[0;31m                 \u001b[0;32mreturn\u001b[0m \u001b[0mfunc\u001b[0m\u001b[0;34m(\u001b[0m\u001b[0;34m*\u001b[0m\u001b[0margs\u001b[0m\u001b[0;34m,\u001b[0m \u001b[0;34m**\u001b[0m\u001b[0mkwargs\u001b[0m\u001b[0;34m)\u001b[0m\u001b[0;34m\u001b[0m\u001b[0;34m\u001b[0m\u001b[0m\n\u001b[0m\u001b[1;32m     29\u001b[0m         \u001b[0;32mreturn\u001b[0m \u001b[0mcast\u001b[0m\u001b[0;34m(\u001b[0m\u001b[0mF\u001b[0m\u001b[0;34m,\u001b[0m \u001b[0mdecorate_context\u001b[0m\u001b[0;34m)\u001b[0m\u001b[0;34m\u001b[0m\u001b[0;34m\u001b[0m\u001b[0m\n\u001b[1;32m     30\u001b[0m \u001b[0;34m\u001b[0m\u001b[0m\n",
            "\u001b[0;32m/usr/local/lib/python3.7/dist-packages/torch/optim/sparse_adam.py\u001b[0m in \u001b[0;36mstep\u001b[0;34m(self, closure)\u001b[0m\n\u001b[1;32m    107\u001b[0m                           \u001b[0mbeta2\u001b[0m\u001b[0;34m=\u001b[0m\u001b[0mbeta2\u001b[0m\u001b[0;34m,\u001b[0m\u001b[0;34m\u001b[0m\u001b[0;34m\u001b[0m\u001b[0m\n\u001b[1;32m    108\u001b[0m                           \u001b[0mlr\u001b[0m\u001b[0;34m=\u001b[0m\u001b[0mgroup\u001b[0m\u001b[0;34m[\u001b[0m\u001b[0;34m'lr'\u001b[0m\u001b[0;34m]\u001b[0m\u001b[0;34m,\u001b[0m\u001b[0;34m\u001b[0m\u001b[0;34m\u001b[0m\u001b[0m\n\u001b[0;32m--> 109\u001b[0;31m                           eps=group['eps'])\n\u001b[0m\u001b[1;32m    110\u001b[0m \u001b[0;34m\u001b[0m\u001b[0m\n\u001b[1;32m    111\u001b[0m         \u001b[0;32mreturn\u001b[0m \u001b[0mloss\u001b[0m\u001b[0;34m\u001b[0m\u001b[0;34m\u001b[0m\u001b[0m\n",
            "\u001b[0;32m/usr/local/lib/python3.7/dist-packages/torch/optim/_functional.py\u001b[0m in \u001b[0;36msparse_adam\u001b[0;34m(params, grads, exp_avgs, exp_avg_sqs, state_steps, eps, beta1, beta2, lr)\u001b[0m\n\u001b[1;32m    495\u001b[0m         \u001b[0mold_exp_avg_sq_values\u001b[0m \u001b[0;34m=\u001b[0m \u001b[0mexp_avg_sq\u001b[0m\u001b[0;34m.\u001b[0m\u001b[0msparse_mask\u001b[0m\u001b[0;34m(\u001b[0m\u001b[0mgrad\u001b[0m\u001b[0;34m)\u001b[0m\u001b[0;34m.\u001b[0m\u001b[0m_values\u001b[0m\u001b[0;34m(\u001b[0m\u001b[0;34m)\u001b[0m\u001b[0;34m\u001b[0m\u001b[0;34m\u001b[0m\u001b[0m\n\u001b[1;32m    496\u001b[0m         \u001b[0mexp_avg_sq_update_values\u001b[0m \u001b[0;34m=\u001b[0m \u001b[0mgrad_values\u001b[0m\u001b[0;34m.\u001b[0m\u001b[0mpow\u001b[0m\u001b[0;34m(\u001b[0m\u001b[0;36m2\u001b[0m\u001b[0;34m)\u001b[0m\u001b[0;34m.\u001b[0m\u001b[0msub_\u001b[0m\u001b[0;34m(\u001b[0m\u001b[0mold_exp_avg_sq_values\u001b[0m\u001b[0;34m)\u001b[0m\u001b[0;34m.\u001b[0m\u001b[0mmul_\u001b[0m\u001b[0;34m(\u001b[0m\u001b[0;36m1\u001b[0m \u001b[0;34m-\u001b[0m \u001b[0mbeta2\u001b[0m\u001b[0;34m)\u001b[0m\u001b[0;34m\u001b[0m\u001b[0;34m\u001b[0m\u001b[0m\n\u001b[0;32m--> 497\u001b[0;31m         \u001b[0mexp_avg_sq\u001b[0m\u001b[0;34m.\u001b[0m\u001b[0madd_\u001b[0m\u001b[0;34m(\u001b[0m\u001b[0mmake_sparse\u001b[0m\u001b[0;34m(\u001b[0m\u001b[0mexp_avg_sq_update_values\u001b[0m\u001b[0;34m)\u001b[0m\u001b[0;34m)\u001b[0m\u001b[0;34m\u001b[0m\u001b[0;34m\u001b[0m\u001b[0m\n\u001b[0m\u001b[1;32m    498\u001b[0m \u001b[0;34m\u001b[0m\u001b[0m\n\u001b[1;32m    499\u001b[0m         \u001b[0;31m# Dense addition again is intended, avoiding another sparse_mask\u001b[0m\u001b[0;34m\u001b[0m\u001b[0;34m\u001b[0m\u001b[0;34m\u001b[0m\u001b[0m\n",
            "\u001b[0;32m/usr/local/lib/python3.7/dist-packages/torch/optim/_functional.py\u001b[0m in \u001b[0;36mmake_sparse\u001b[0;34m(values)\u001b[0m\n\u001b[1;32m    485\u001b[0m             \u001b[0;32mif\u001b[0m \u001b[0mgrad_indices\u001b[0m\u001b[0;34m.\u001b[0m\u001b[0mdim\u001b[0m\u001b[0;34m(\u001b[0m\u001b[0;34m)\u001b[0m \u001b[0;34m==\u001b[0m \u001b[0;36m0\u001b[0m \u001b[0;32mor\u001b[0m \u001b[0mvalues\u001b[0m\u001b[0;34m.\u001b[0m\u001b[0mdim\u001b[0m\u001b[0;34m(\u001b[0m\u001b[0;34m)\u001b[0m \u001b[0;34m==\u001b[0m \u001b[0;36m0\u001b[0m\u001b[0;34m:\u001b[0m\u001b[0;34m\u001b[0m\u001b[0;34m\u001b[0m\u001b[0m\n\u001b[1;32m    486\u001b[0m                 \u001b[0;32mreturn\u001b[0m \u001b[0mconstructor\u001b[0m\u001b[0;34m(\u001b[0m\u001b[0;34m)\u001b[0m\u001b[0;34m.\u001b[0m\u001b[0mresize_as_\u001b[0m\u001b[0;34m(\u001b[0m\u001b[0mgrad\u001b[0m\u001b[0;34m)\u001b[0m\u001b[0;34m\u001b[0m\u001b[0;34m\u001b[0m\u001b[0m\n\u001b[0;32m--> 487\u001b[0;31m             \u001b[0;32mreturn\u001b[0m \u001b[0mconstructor\u001b[0m\u001b[0;34m(\u001b[0m\u001b[0mgrad_indices\u001b[0m\u001b[0;34m,\u001b[0m \u001b[0mvalues\u001b[0m\u001b[0;34m,\u001b[0m \u001b[0msize\u001b[0m\u001b[0;34m)\u001b[0m\u001b[0;34m\u001b[0m\u001b[0;34m\u001b[0m\u001b[0m\n\u001b[0m\u001b[1;32m    488\u001b[0m \u001b[0;34m\u001b[0m\u001b[0m\n\u001b[1;32m    489\u001b[0m         \u001b[0;31m# Decay the first and second moment running average coefficient\u001b[0m\u001b[0;34m\u001b[0m\u001b[0;34m\u001b[0m\u001b[0;34m\u001b[0m\u001b[0m\n",
            "\u001b[0;31mKeyboardInterrupt\u001b[0m: "
          ]
        }
      ],
      "source": [
        "losses = []\n",
        "for epoch in range(1, 20):\n",
        "    loss = train()\n",
        "    losses.append(loss)\n",
        "    print(f'Epoch: {epoch:02d}, Loss: {loss:.4f}')"
      ]
    },
    {
      "cell_type": "code",
      "execution_count": 107,
      "metadata": {
        "id": "A0XHMgkX0s_E"
      },
      "outputs": [],
      "source": [
        "torch.save(model.state_dict(), 'node2vec_authors_64dim')"
      ]
    },
    {
      "cell_type": "code",
      "execution_count": 108,
      "metadata": {
        "colab": {
          "base_uri": "https://localhost:8080/",
          "height": 513
        },
        "id": "jzlY3pz6p6v3",
        "outputId": "65e48ae4-b420-498d-d816-8ed51d6ccb86"
      },
      "outputs": [
        {
          "data": {
            "image/png": "[encoded data removed]",
            "text/plain": [
              "<Figure size 720x576 with 1 Axes>"
            ]
          },
          "metadata": {
            "needs_background": "light"
          },
          "output_type": "display_data"
        }
      ],
      "source": [
        "plt.figure(figsize = (10,8))\n",
        "plt.plot(losses)\n",
        "plt.title('Authors Graph Node2Vec loss evolution')\n",
        "plt.xlabel('loss')\n",
        "plt.ylabel('epoch')\n",
        "plt.show()"
      ]
    },
    {
      "cell_type": "code",
      "execution_count": 109,
      "metadata": {
        "colab": {
          "base_uri": "https://localhost:8080/"
        },
        "id": "1AJsIEb2lQXD",
        "outputId": "bb54e349-c180-49f6-c73e-5729537f48d8"
      },
      "outputs": [
        {
          "data": {
            "text/plain": [
              "Node2Vec(174961, 64)"
            ]
          },
          "execution_count": 109,
          "metadata": {},
          "output_type": "execute_result"
        }
      ],
      "source": [
        "model.load_state_dict(torch.load('node2vec_authors_64dim'))\n",
        "model.eval()"
      ]
    },
    {
      "cell_type": "code",
      "execution_count": 112,
      "metadata": {
        "id": "G7SwS2Vgruua"
      },
      "outputs": [],
      "source": [
        "authors_embedding = model(torch.arange(G_authors_train.num_nodes, device=device))"
      ]
    },
    {
      "cell_type": "markdown",
      "metadata": {
        "id": "Pwm3SWHopC9k"
      },
      "source": [
        "Creating features for each node :  each node is characterized by the average vector over the embedding of the authors of the node article. "
      ]
    },
    {
      "cell_type": "code",
      "execution_count": 116,
      "metadata": {
        "id": "pqEB-PNmlZFZ"
      },
      "outputs": [],
      "source": [
        "for text in author_per_text.keys(): \n",
        "  avg_authors_feature = torch.zeros([64]).to(device)\n",
        "  for author in author_per_text[text]: \n",
        "    avg_authors_feature += authors_embedding[int(G_authors.nodes[str(author)]['id'])].to(device)\n",
        "  avg_authors_feature /= len(author_per_text[text])\n",
        "  G.nodes[text]['avg_authors_feature'] = avg_authors_feature ## Here : we add the features to the author features to the original graph (for link prediction)"
      ]
    },
    {
      "cell_type": "code",
      "execution_count": 132,
      "metadata": {
        "colab": {
          "base_uri": "https://localhost:8080/"
        },
        "id": "_rJlRHYV20o0",
        "outputId": "50fd07d8-f05b-4ee1-c56b-c1f3e0509177"
      },
      "outputs": [
        {
          "name": "stdout",
          "output_type": "stream",
          "text": [
            "{'Jian-Xun Peng': {'weight': 1.0}, 'Karen R. McMenemy': {'weight': 1.0}, 'George W. Irwin\\n': {'weight': 1.0}}\n",
            "{'James H. Niblock': {'weight': 1.0}, 'Karen R. McMenemy': {'weight': 1.0}, 'George W. Irwin\\n': {'weight': 1.0}, 'Kang Li': {'weight': 2.0}, 'De-Shuang Huang\\n': {'weight': 1.0}, 'G.W. Irwin\\n': {'weight': 1.0}, 'Karen Rafferty': {'weight': 4.0}, 'Stuart Ferguson\\n': {'weight': 2.0}, 'Stuart Ferguson': {'weight': 2.0}, 'Paul D. Kelly\\n': {'weight': 1.0}, 'Victoria Stewart\\n': {'weight': 1.0}}\n",
            "{'Jian-Xun Peng': {'weight': 4.0}, 'Stuart Ferguson\\n': {'weight': 2.0}, 'Stuart Ferguson': {'weight': 2.0}, 'Paul D. Kelly\\n': {'weight': 1.0}, 'Victoria Stewart\\n': {'weight': 1.0}, 'Shyama Prosad Chowdhury': {'weight': 1.0}, 'Amit Kumar Das\\n': {'weight': 1.0}}\n"
          ]
        }
      ],
      "source": [
        "print(G_authors['James H. Niblock'])\n",
        "id1 = G_authors.nodes['James H. Niblock']['id']\n",
        "\n",
        "print(G_authors['Jian-Xun Peng'])\n",
        "id2 = G_authors.nodes['Jian-Xun Peng']['id']\n",
        "\n",
        "print(G_authors['Karen Rafferty'])\n",
        "id3 = G_authors.nodes['Karen Rafferty']['id']"
      ]
    },
    {
      "cell_type": "code",
      "execution_count": 110,
      "metadata": {
        "id": "48PtmqIarMpG"
      },
      "outputs": [],
      "source": [
        "from sklearn.manifold import TSNE\n",
        "from sklearn.decomposition import PCA"
      ]
    },
    {
      "cell_type": "code",
      "execution_count": 188,
      "metadata": {
        "colab": {
          "base_uri": "https://localhost:8080/",
          "height": 295
        },
        "id": "AAaf28FRrveD",
        "outputId": "71eec663-a52c-47d0-d27e-116e7d4f66ed"
      },
      "outputs": [
        {
          "data": {
            "image/png": "[encoded data removed]",
            "text/plain": [
              "<Figure size 432x288 with 1 Axes>"
            ]
          },
          "metadata": {
            "needs_background": "light"
          },
          "output_type": "display_data"
        }
      ],
      "source": [
        "embeddings_2d = PCA(n_components=2).fit_transform(authors_embedding.cpu().detach().numpy())\n",
        "\n",
        "# Visualizes the nodes\n",
        "plt.scatter(embeddings_2d[:,0], embeddings_2d[:,1])\n",
        "plt.scatter(embeddings_2d[id1,0], embeddings_2d[id1,1], c='r')\n",
        "plt.scatter(embeddings_2d[id2, 0], embeddings_2d[id2,1], c='g')\n",
        "plt.scatter(embeddings_2d[id3,0], embeddings_2d[id3,1], c='b')\n",
        "\n",
        "plt.title('PCA Visualization of the nodes')\n",
        "plt.xlabel('1st dimension')\n",
        "plt.ylabel('2nd dimension')\n",
        "plt.show()"
      ]
    },
    {
      "cell_type": "markdown",
      "metadata": {
        "id": "l-EBMFNQ4yrH"
      },
      "source": [
        "## Second approach : Article nodes linked by number of commun authors"
      ]
    },
    {
      "cell_type": "code",
      "execution_count": 138,
      "metadata": {
        "colab": {
          "base_uri": "https://localhost:8080/"
        },
        "id": "SFBJmm8G23eW",
        "outputId": "601017f2-9e37-43b0-bd49-3f538a12d7ee"
      },
      "outputs": [
        {
          "name": "stdout",
          "output_type": "stream",
          "text": [
            "Number of nodes: 138499\n",
            "Number of edges: 1091955\n",
            "Number of authors : 174961\n"
          ]
        }
      ],
      "source": [
        "G, abstracts, text_per_author, author_per_text = read_graph()"
      ]
    },
    {
      "cell_type": "code",
      "execution_count": 158,
      "metadata": {
        "id": "XmIQ-Rjq6IAr"
      },
      "outputs": [],
      "source": [
        "def create_commun_authors_papers_graph(text_per_author, author_per_text):\n",
        "\n",
        "  G_papers_ca = nx.Graph()\n",
        "  for node in author_per_text.keys(): \n",
        "    G_papers_ca.add_node(node)\n",
        "\n",
        "  for author in text_per_author.keys(): \n",
        "    for text1 in text_per_author[author]: \n",
        "        for text2 in text_per_author[author]: \n",
        "          if text1 != text2 : \n",
        "            if G_papers_ca.has_edge(text1, text2) == False : \n",
        "              G_papers_ca.add_edge(text1, text2, weight = 1/2)\n",
        "            else : \n",
        "              G_papers_ca[text1][text2]['weight']+= 1/2\n",
        "  return G_papers_ca"
      ]
    },
    {
      "cell_type": "code",
      "execution_count": 159,
      "metadata": {
        "id": "TdcSuFTt5_CX"
      },
      "outputs": [],
      "source": [
        "G_papers_ca = create_commun_authors_papers_graph(text_per_author, author_per_text)"
      ]
    },
    {
      "cell_type": "code",
      "execution_count": 160,
      "metadata": {
        "colab": {
          "base_uri": "https://localhost:8080/"
        },
        "id": "CKUId5yV8yW3",
        "outputId": "992034c0-4edf-4450-b0be-f17497e8a9be"
      },
      "outputs": [
        {
          "name": "stdout",
          "output_type": "stream",
          "text": [
            "The minimum degree of the nodes in the graph is : 0\n",
            "The maximum degree of the nodes in the graph is : 1344\n",
            "The mean degree of the nodes in the graph is : 37.1137120123611\n",
            "The median degree of the nodes in the graph is : 17.0\n"
          ]
        }
      ],
      "source": [
        "degree_sequence = np.array([G_papers_ca.degree(node) for node in G_papers_ca.nodes()])\n",
        "min_nb_nodes = 0\n",
        "print('The minimum degree of the nodes in the graph is :', min(degree_sequence))\n",
        "print('The maximum degree of the nodes in the graph is :', max(degree_sequence))\n",
        "print('The mean degree of the nodes in the graph is :', np.mean(degree_sequence))\n",
        "print('The median degree of the nodes in the graph is :', np.median(degree_sequence))"
      ]
    },
    {
      "cell_type": "code",
      "execution_count": 161,
      "metadata": {
        "id": "5eYuumYW9A1j"
      },
      "outputs": [],
      "source": [
        "G_papers_ca = from_networkx(G_papers_ca) # already undirected"
      ]
    },
    {
      "cell_type": "code",
      "execution_count": 162,
      "metadata": {
        "colab": {
          "base_uri": "https://localhost:8080/"
        },
        "id": "85b5A55M99Q5",
        "outputId": "f37de309-bc1f-4f25-9cdb-ee7eba128b51"
      },
      "outputs": [
        {
          "name": "stderr",
          "output_type": "stream",
          "text": [
            "/usr/local/lib/python3.7/dist-packages/torch/utils/data/dataloader.py:481: UserWarning: This DataLoader will create 4 worker processes in total. Our suggested max number of worker in current system is 2, which is smaller than what this DataLoader is going to create. Please be aware that excessive worker creation might get DataLoader running slow or even freeze, lower the worker number to avoid potential slowness/freeze if necessary.\n",
            "  cpuset_checked))\n"
          ]
        }
      ],
      "source": [
        "device = 'cuda' if torch.cuda.is_available() else 'cpu'\n",
        "model = Node2Vec(G_papers_ca.edge_index, embedding_dim= 64, walk_length=30,\n",
        "                    context_size=10, walks_per_node=20,\n",
        "                    num_negative_samples=1, p=1, q=1, sparse=True).to(device)\n",
        "\n",
        "loader = model.loader(batch_size=128, shuffle=True, num_workers=4)\n",
        "optimizer = torch.optim.SparseAdam(list(model.parameters()), lr=0.01)"
      ]
    },
    {
      "cell_type": "code",
      "execution_count": 163,
      "metadata": {
        "colab": {
          "base_uri": "https://localhost:8080/"
        },
        "id": "9-9t1ug2-LQg",
        "outputId": "73ac860c-81a3-4ef0-ebac-8e6005dc96d3"
      },
      "outputs": [
        {
          "name": "stderr",
          "output_type": "stream",
          "text": [
            "/usr/local/lib/python3.7/dist-packages/torch/utils/data/dataloader.py:481: UserWarning: This DataLoader will create 4 worker processes in total. Our suggested max number of worker in current system is 2, which is smaller than what this DataLoader is going to create. Please be aware that excessive worker creation might get DataLoader running slow or even freeze, lower the worker number to avoid potential slowness/freeze if necessary.\n",
            "  cpuset_checked))\n"
          ]
        },
        {
          "name": "stdout",
          "output_type": "stream",
          "text": [
            "Epoch: 01, Loss: 1.8342\n",
            "Epoch: 02, Loss: 0.9134\n",
            "Epoch: 03, Loss: 0.8696\n",
            "Epoch: 04, Loss: 0.8597\n",
            "Epoch: 05, Loss: 0.8560\n",
            "Epoch: 06, Loss: 0.8538\n",
            "Epoch: 07, Loss: 0.8525\n",
            "Epoch: 08, Loss: 0.8517\n",
            "Epoch: 09, Loss: 0.8510\n",
            "Epoch: 10, Loss: 0.8504\n",
            "Epoch: 11, Loss: 0.8501\n",
            "Epoch: 12, Loss: 0.8499\n",
            "Epoch: 13, Loss: 0.8497\n",
            "Epoch: 14, Loss: 0.8497\n",
            "Epoch: 15, Loss: 0.8494\n",
            "Epoch: 16, Loss: 0.8495\n",
            "Epoch: 17, Loss: 0.8493\n",
            "Epoch: 18, Loss: 0.8493\n",
            "Epoch: 19, Loss: 0.8493\n"
          ]
        }
      ],
      "source": [
        "losses = []\n",
        "for epoch in range(1, 20):\n",
        "    loss = train()\n",
        "    losses.append(loss)\n",
        "    print(f'Epoch: {epoch:02d}, Loss: {loss:.4f}')"
      ]
    },
    {
      "cell_type": "code",
      "execution_count": 164,
      "metadata": {
        "id": "fsJBHaa6-Pr_"
      },
      "outputs": [],
      "source": [
        "torch.save(model.state_dict(), 'node2vec_papers_ca_64dim')"
      ]
    },
    {
      "cell_type": "code",
      "execution_count": 166,
      "metadata": {
        "colab": {
          "base_uri": "https://localhost:8080/",
          "height": 513
        },
        "id": "dKLvqonsBYmW",
        "outputId": "bab2b97f-ec58-4f60-9a3d-49fbab49a3c6"
      },
      "outputs": [
        {
          "data": {
            "image/png": "[encoded data removed]",
            "text/plain": [
              "<Figure size 720x576 with 1 Axes>"
            ]
          },
          "metadata": {
            "needs_background": "light"
          },
          "output_type": "display_data"
        }
      ],
      "source": [
        "plt.figure(figsize = (10,8))\n",
        "plt.plot(losses)\n",
        "plt.title('Papers_ca Graph Node2Vec loss evolution')\n",
        "plt.xlabel('loss')\n",
        "plt.ylabel('epoch')\n",
        "plt.show()"
      ]
    },
    {
      "cell_type": "code",
      "execution_count": 180,
      "metadata": {
        "colab": {
          "base_uri": "https://localhost:8080/"
        },
        "id": "5u2rxZbXDST7",
        "outputId": "8a7b8608-c0d2-4243-e84e-57cbd1618e53"
      },
      "outputs": [
        {
          "data": {
            "text/plain": [
              "Node2Vec(138499, 64)"
            ]
          },
          "execution_count": 180,
          "metadata": {},
          "output_type": "execute_result"
        }
      ],
      "source": [
        "model.load_state_dict(torch.load('node2vec_papers_ca_64dim'))\n",
        "model.eval()"
      ]
    },
    {
      "cell_type": "code",
      "execution_count": 181,
      "metadata": {
        "id": "dEUIqEDmB0RS"
      },
      "outputs": [],
      "source": [
        "papers_ca_embedding = model(torch.arange(G_papers_ca.num_nodes, device=device))"
      ]
    },
    {
      "cell_type": "code",
      "execution_count": 182,
      "metadata": {
        "id": "9FfcOLPyCKSr"
      },
      "outputs": [],
      "source": [
        "for node in author_per_text : \n",
        "  G.nodes[node]['feat_com_authors'] = papers_ca_embedding[node]"
      ]
    },
    {
      "cell_type": "code",
      "execution_count": 187,
      "metadata": {
        "colab": {
          "base_uri": "https://localhost:8080/",
          "height": 295
        },
        "id": "JNXqvzsmDNLC",
        "outputId": "b8f1d5ef-7555-440b-b1bc-2a3b7bc6338d"
      },
      "outputs": [
        {
          "data": {
            "image/png": "[encoded data removed]",
            "text/plain": [
              "<Figure size 432x288 with 1 Axes>"
            ]
          },
          "metadata": {
            "needs_background": "light"
          },
          "output_type": "display_data"
        }
      ],
      "source": [
        "embeddings_2d = PCA(n_components=2).fit_transform(papers_ca_embedding.cpu().detach().numpy())\n",
        "\n",
        "# Visualizes the nodes\n",
        "plt.scatter(embeddings_2d[:,0], embeddings_2d[:,1])\n",
        "plt.scatter(embeddings_2d[0,0], embeddings_2d[0,1], c='r')\n",
        "plt.scatter(embeddings_2d[1, 0], embeddings_2d[1,1], c='g')\n",
        "\n",
        "plt.title('PCA Visualization of the nodes')\n",
        "plt.xlabel('1st dimension')\n",
        "plt.ylabel('2nd dimension')\n",
        "plt.show()"
      ]
    },
    {
      "cell_type": "markdown",
      "metadata": {
        "id": "A3NwhWxx-XEO"
      },
      "source": [
        "- TODO : validate the embeddings on a valset / using visualization methods "
      ]
    },
    {
      "cell_type": "code",
      "execution_count": null,
      "metadata": {
        "id": "NyWkRkP99fsd"
      },
      "outputs": [],
      "source": [
        "from torch_geometric.transforms import RandomLinkSplit\n",
        "transform = RandomLinkSplit(is_undirected=True, num_val = 0.1, num_test = 0)\n",
        "G_authors_train, G_authors_val, G_authors_test = transform(G_papers_ca)"
      ]
    }
  ],
  "metadata": {
    "accelerator": "GPU",
    "colab": {
      "name": "AuthorsInformation.ipynb",
      "provenance": []
    },
    "kernelspec": {
      "display_name": "Python 3",
      "name": "python3"
    },
    "language_info": {
      "name": "python"
    }
  },
  "nbformat": 4,
  "nbformat_minor": 0
}
