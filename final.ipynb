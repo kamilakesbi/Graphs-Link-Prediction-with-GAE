{
 "cells": [
  {
   "cell_type": "markdown",
   "metadata": {},
   "source": [
    "# ALTEGRAD project\n"
   ]
  },
  {
   "cell_type": "markdown",
   "metadata": {},
   "source": [
    "This notebook contains the full pipeline of training and evaluating our model. By default, we load and execute the GraphSAGE based architecture."
   ]
  },
  {
   "cell_type": "code",
   "execution_count": 1,
   "metadata": {},
   "outputs": [
    {
     "name": "stderr",
     "output_type": "stream",
     "text": [
      "Using backend: pytorch\n"
     ]
    }
   ],
   "source": [
    "import csv\n",
    "import numpy as np\n",
    "import dgl\n",
    "import torch.nn as nn\n",
    "import torch\n",
    "import torch.nn.functional as F\n",
    "import numpy as np\n",
    "from tqdm import tqdm\n",
    "from graph_models import SageModel, inference, DotPredictor, GATModel, MLP, DeepGAT, DeeperSageModel\n",
    "from gensim.models import KeyedVectors\n",
    "from utils import edge_train_val_split\n",
    "from graph_models import train_classif\n",
    "\n",
    "from preprocessing import read_graph, retrieve_subgraph, retrieve_embeddings\n",
    "from author import load_common_author_embeddings\n"
   ]
  },
  {
   "cell_type": "markdown",
   "metadata": {},
   "source": [
    "## 0.Loadings and graph processing"
   ]
  },
  {
   "cell_type": "markdown",
   "metadata": {},
   "source": [
    "For size issues, we did not include any of the provided data, they have to be added to the project folder. We weren't able to include the doc2vec and noce2vec representation we computed and use here. These are available for download here : https://drive.google.com/drive/folders/1jrM7ZJsPg7q9478JfqOl6eAd9vUUsRKi?usp=sharing"
   ]
  },
  {
   "cell_type": "code",
   "execution_count": 2,
   "metadata": {},
   "outputs": [
    {
     "name": "stdout",
     "output_type": "stream",
     "text": [
      "Number of nodes: 138499\n",
      "Number of edges: 1091955\n",
      "Number of authors : 174961\n",
      "The minimum degree of the nodes in the graph is : 1\n",
      "The maximum degree of the nodes in the graph is : 3037\n",
      "The mean degree of the nodes in the graph is : 15.76841710048448\n",
      "The median degree of the nodes in the graph is : 9.0\n",
      "Number of nodes in subgraph: 138499\n",
      "Number of edges in subgraph: 1091955\n"
     ]
    }
   ],
   "source": [
    "G, abstracts, text_per_author, author_per_text = read_graph()\n",
    "G = retrieve_subgraph(G, min_nb_nodes=-1) # We keep all nodes"
   ]
  },
  {
   "cell_type": "code",
   "execution_count": 3,
   "metadata": {},
   "outputs": [
    {
     "name": "stderr",
     "output_type": "stream",
     "text": [
      "C:\\Users\\dutot\\Utilities\\anaconda3\\lib\\site-packages\\dgl\\backend\\pytorch\\tensor.py:46: UserWarning: Creating a tensor from a list of numpy.ndarrays is extremely slow. Please consider converting the list to a single numpy.ndarray with numpy.array() before converting to a tensor. (Triggered internally at  ..\\torch\\csrc\\utils\\tensor_new.cpp:201.)\n",
      "  return th.as_tensor(data, dtype=dtype)\n",
      "100%|██████████| 1091955/1091955 [00:05<00:00, 199570.69it/s]\n"
     ]
    }
   ],
   "source": [
    "wv = KeyedVectors.load(\"word2vec.wordvectors\", mmap='r')\n",
    "dv = KeyedVectors.load(\"doc2vec.docvectors\", mmap='r')\n",
    "for i, node in enumerate(G.nodes()):\n",
    "    G.nodes[int(node)]['id'] = int(node)\n",
    "    G.nodes[int(node)]['feat'] = wv[int(node)] # node2vec embeddings of the citation network\n",
    "    G.nodes[int(node)]['abstract_feat'] =  dv[int(node)]\n",
    "\n",
    "del wv, dv\n",
    "G = load_common_author_embeddings(G, text_per_author, author_per_text)\n",
    "\n",
    "# creates undirected graph\n",
    "graph = dgl.from_networkx(G, node_attrs=['id','feat', 'abstract_feat', 'feat_com_authors']) \n",
    "graph.ndata['_ID'] = torch.arange(graph.num_nodes())\n",
    "node_features = graph.ndata['feat']\n",
    "num_features = node_features.shape[1]\n",
    "\n",
    "src = []\n",
    "dst = []\n",
    "for edge in tqdm(G.edges()):\n",
    "    src.append(edge[0])\n",
    "    dst.append(edge[1])\n",
    "G_dir = dgl.graph((src, dst)) # creates directed graph\n",
    "del src, dst\n",
    "for feat in ['_ID','feat', 'abstract_feat', 'feat_com_authors']:\n",
    "    G_dir.ndata[feat] = graph.ndata[feat]\n",
    "\n",
    "abstract_feat = G_dir.ndata['abstract_feat'] \n",
    "feat_com_authors = G_dir.ndata['feat_com_authors']\n"
   ]
  },
  {
   "cell_type": "markdown",
   "metadata": {},
   "source": [
    "## 1. Training GNN\n",
    "### a) Generate dataloader for both training"
   ]
  },
  {
   "cell_type": "markdown",
   "metadata": {},
   "source": [
    "The cell below initializes the message passing flow sampler. The array signification is explained in our project paper."
   ]
  },
  {
   "cell_type": "code",
   "execution_count": 68,
   "metadata": {},
   "outputs": [],
   "source": [
    "sampler = dgl.dataloading.MultiLayerNeighborSampler([3, 3]) #[7, 15, -1] for GraphSAGE, [3, 3] for GAT"
   ]
  },
  {
   "cell_type": "code",
   "execution_count": 40,
   "metadata": {},
   "outputs": [],
   "source": [
    "eid_train, eid_val = edge_train_val_split(G_dir, val_size=0.1)\n",
    "device = torch.device('cuda')\n",
    "negative_sampler = dgl.dataloading.negative_sampler.Uniform(1)\n",
    " #5 15 -1 We need no message flows\n",
    "train_dataloader = dgl.dataloading.EdgeDataLoader(\n",
    "    # The following arguments are specific to NodeDataLoader.\n",
    "    graph,                                  # The graph\n",
    "    eid_train,  # The edges to iterate over\n",
    "    sampler,                                # The neighbor sampler\n",
    "    negative_sampler=negative_sampler,      \n",
    "    device=device,                         \n",
    "    batch_size=2*1024,    \n",
    "    shuffle=True,       # True for GraphSAGE and False for GAT\n",
    "    drop_last=False,    # Whether to drop the last incomplete batch\n",
    "    num_workers=0       # Number of sampler processes\n",
    ")\n",
    "val_dataloader = dgl.dataloading.EdgeDataLoader(\n",
    "\n",
    "    graph,                                  \n",
    "    eid_val,  # The edges to iterate over\n",
    "    sampler,                                \n",
    "    negative_sampler=negative_sampler,      \n",
    "    device=device,                         \n",
    "    batch_size=2*1024,    \n",
    "    shuffle=True,       \n",
    "    drop_last=False,    \n",
    "    num_workers=0       \n",
    ")\n",
    "\n",
    "eid_train_classif, eid_val_classif = edge_train_val_split(G_dir, val_size=0.1)\n",
    "device = torch.device('cuda')\n",
    "negative_sampler_train = dgl.dataloading.negative_sampler.Uniform(1)\n",
    "negative_sampler_val =  dgl.dataloading.negative_sampler.Uniform(1)\n",
    "sampler_train = dgl.dataloading.MultiLayerNeighborSampler([0, 0])\n",
    "sampler_val = dgl.dataloading.MultiLayerNeighborSampler([0, 0]) # We need no message flows\n",
    "train_classif_dataloader = dgl.dataloading.EdgeDataLoader(\n",
    "    G_dir,                      # directed graph\n",
    "    eid_train_classif,  \n",
    "    sampler_train,                                \n",
    "    negative_sampler=negative_sampler_train,      \n",
    "    device=device,                         \n",
    "    batch_size=1024,    \n",
    "    shuffle=True,       # No influence here\n",
    "    drop_last=False,    \n",
    "    num_workers=0       \n",
    ")\n",
    "val_classif_dataloader = dgl.dataloading.EdgeDataLoader(\n",
    "    \n",
    "    G_dir,                                 \n",
    "    eid_val_classif, \n",
    "    sampler_val,                                \n",
    "    negative_sampler=negative_sampler_train,      \n",
    "    device=device,                         \n",
    "    batch_size=1024,    \n",
    "    shuffle=True,       \n",
    "    drop_last=False,    \n",
    "    num_workers=0     \n",
    ")"
   ]
  },
  {
   "cell_type": "code",
   "execution_count": 41,
   "metadata": {},
   "outputs": [],
   "source": [
    "#model = DeepGAT(node_features.shape[1], 64, 4, F.elu).to(device)\n",
    "#model = GATModel(node_features.shape[1], 64, 4, F.elu).to(device)\n",
    "model = DeeperSageModel(node_features.shape[1], 64).to(device)\n",
    "predictor = DotPredictor().to(device)\n",
    "#predictor = MLPPredictor(n_hidden=64, n_input=128).to(device)\n",
    "opt = torch.optim.Adam(list(model.parameters()) + list(predictor.parameters()))"
   ]
  },
  {
   "cell_type": "markdown",
   "metadata": {},
   "source": [
    "### b) GNN training procedure"
   ]
  },
  {
   "cell_type": "code",
   "execution_count": 42,
   "metadata": {},
   "outputs": [
    {
     "name": "stderr",
     "output_type": "stream",
     "text": [
      "100%|██████████| 480/480 [01:49<00:00,  4.39it/s, loss=0.432]\n"
     ]
    },
    {
     "name": "stdout",
     "output_type": "stream",
     "text": [
      "Epoch 0 : Train mean loss 0.725474445708096 : Val mean loss 0.4368240921585648\n"
     ]
    },
    {
     "name": "stderr",
     "output_type": "stream",
     "text": [
      "100%|██████████| 480/480 [01:45<00:00,  4.54it/s, loss=0.400]\n"
     ]
    },
    {
     "name": "stdout",
     "output_type": "stream",
     "text": [
      "Epoch 1 : Train mean loss 0.420484205459555 : Val mean loss 0.41148173809051514\n"
     ]
    },
    {
     "name": "stderr",
     "output_type": "stream",
     "text": [
      "100%|██████████| 480/480 [01:45<00:00,  4.56it/s, loss=0.394]\n"
     ]
    },
    {
     "name": "stdout",
     "output_type": "stream",
     "text": [
      "Epoch 2 : Train mean loss 0.4031614893426498 : Val mean loss 0.3977986927385683\n"
     ]
    },
    {
     "name": "stderr",
     "output_type": "stream",
     "text": [
      "100%|██████████| 480/480 [01:39<00:00,  4.83it/s, loss=0.370]\n"
     ]
    },
    {
     "name": "stdout",
     "output_type": "stream",
     "text": [
      "Epoch 3 : Train mean loss 0.3919891191025575 : Val mean loss 0.3862997707393434\n"
     ]
    },
    {
     "name": "stderr",
     "output_type": "stream",
     "text": [
      "100%|██████████| 480/480 [01:37<00:00,  4.94it/s, loss=0.377]\n"
     ]
    },
    {
     "name": "stdout",
     "output_type": "stream",
     "text": [
      "Epoch 4 : Train mean loss 0.3836708794037501 : Val mean loss 0.38189870560610734\n"
     ]
    },
    {
     "name": "stderr",
     "output_type": "stream",
     "text": [
      "100%|██████████| 480/480 [01:39<00:00,  4.84it/s, loss=0.359]\n"
     ]
    },
    {
     "name": "stdout",
     "output_type": "stream",
     "text": [
      "Epoch 5 : Train mean loss 0.37615466850499313 : Val mean loss 0.3754736852866632\n"
     ]
    },
    {
     "name": "stderr",
     "output_type": "stream",
     "text": [
      "100%|██████████| 480/480 [01:40<00:00,  4.80it/s, loss=0.388]\n"
     ]
    },
    {
     "name": "stdout",
     "output_type": "stream",
     "text": [
      "Epoch 6 : Train mean loss 0.3700253877788782 : Val mean loss 0.36551901642923\n"
     ]
    },
    {
     "name": "stderr",
     "output_type": "stream",
     "text": [
      "100%|██████████| 480/480 [01:37<00:00,  4.94it/s, loss=0.358]\n"
     ]
    },
    {
     "name": "stdout",
     "output_type": "stream",
     "text": [
      "Epoch 7 : Train mean loss 0.36476379055529834 : Val mean loss 0.3639651012641412\n"
     ]
    },
    {
     "name": "stderr",
     "output_type": "stream",
     "text": [
      "100%|██████████| 480/480 [01:45<00:00,  4.56it/s, loss=0.355]\n"
     ]
    },
    {
     "name": "stdout",
     "output_type": "stream",
     "text": [
      "Epoch 8 : Train mean loss 0.3599505824968219 : Val mean loss 0.3565149892259527\n"
     ]
    },
    {
     "name": "stderr",
     "output_type": "stream",
     "text": [
      "100%|██████████| 480/480 [01:37<00:00,  4.92it/s, loss=0.336]\n"
     ]
    },
    {
     "name": "stdout",
     "output_type": "stream",
     "text": [
      "Epoch 9 : Train mean loss 0.35523172554870447 : Val mean loss 0.3508996842084108\n"
     ]
    }
   ],
   "source": [
    "best_accuracy = 0\n",
    "min_loss = np.inf\n",
    "best_model_path = 'sage_deep_1.pt'\n",
    "epochs = 10\n",
    "trainl, vall = [], []\n",
    "for epoch in range(epochs):\n",
    "    train_losses = []\n",
    "    val_losses = []\n",
    "    with tqdm(train_dataloader) as tq:\n",
    "        for step, (input_nodes, pos_graph, neg_graph, mfgs) in enumerate(tq):\n",
    "            # feature copy from CPU to GPU takes place here\n",
    "            inputs = mfgs[0].srcdata['feat']\n",
    "            \n",
    "            outputs = model(mfgs, inputs)\n",
    "            pos_score = predictor(pos_graph, outputs)\n",
    "            neg_score = predictor(neg_graph, outputs)\n",
    "\n",
    "            score = torch.cat([pos_score, neg_score])\n",
    "            label = torch.cat([torch.ones_like(pos_score), torch.zeros_like(neg_score)])\n",
    "            loss = F.binary_cross_entropy_with_logits(score, label)\n",
    "            train_losses.append(loss.item())\n",
    "            opt.zero_grad()\n",
    "            loss.backward()\n",
    "            opt.step()\n",
    "            tq.set_postfix({'loss': '%.03f' % loss.item()}, refresh=False)\n",
    "\n",
    "\n",
    "    for step, (input_nodes, pos_graph, neg_graph, mfgs) in enumerate(val_dataloader):\n",
    "        with torch.no_grad():\n",
    "            # feature copy from CPU to GPU takes place here\n",
    "            inputs = mfgs[0].srcdata['feat']\n",
    "\n",
    "            outputs = model(mfgs, inputs)\n",
    "            pos_score = predictor(pos_graph, outputs)\n",
    "            neg_score = predictor(neg_graph, outputs)\n",
    "\n",
    "            score = torch.cat([pos_score, neg_score])\n",
    "            label = torch.cat([torch.ones_like(pos_score), torch.zeros_like(neg_score)])\n",
    "            loss = F.binary_cross_entropy_with_logits(score, label)\n",
    "            val_losses.append(loss.item())\n",
    "    \n",
    "    model = model.to(torch.device('cuda'))\n",
    "    trainl.append(np.mean(train_losses))\n",
    "    vall.append(np.mean(val_losses))\n",
    "    if np.mean(val_losses) < min_loss:\n",
    "        min_loss = np.mean(val_losses)\n",
    "        torch.save(model.state_dict(), best_model_path)\n",
    "    print(f'Epoch {epoch} : Train mean loss {np.mean(train_losses)} : Val mean loss {np.mean(val_losses)}')"
   ]
  },
  {
   "cell_type": "code",
   "execution_count": 44,
   "metadata": {},
   "outputs": [],
   "source": [
    "trainl_gat_1 =[0.44827790949493646, 0.431433723680675, 0.42672128466268383, 0.4229076687246561, 0.4197835318123301, 0.4185141827290257, 0.4174962400769194, 0.4162254063412547, 0.4152375182757775, 0.4150199147562186]\n",
    "vall_gat_1 = [0.4346935401360194, 0.4291527304384444, 0.4270588783202348, 0.4226552143141075, 0.41997996910854624, 0.41966379075138655, 0.41659143953411665, 0.415133575046504, 0.4162436784417541, 0.4153279662132263]\n",
    "trainl_sage_1 = [0.725474445708096, 0.420484205459555, 0.4031614893426498, 0.3919891191025575, 0.3836708794037501, 0.37615466850499313, 0.3700253877788782, 0.36476379055529834, 0.3599505824968219, 0.35523172554870447]\n",
    "vall_sage_1 = [0.4368240921585648, 0.41148173809051514, 0.3977986927385683, 0.3862997707393434, 0.38189870560610734, 0.3754736852866632, 0.36551901642923, 0.3639651012641412, 0.3565149892259527, 0.3508996842084108]"
   ]
  },
  {
   "cell_type": "code",
   "execution_count": 46,
   "metadata": {},
   "outputs": [
    {
     "data": {
      "text/plain": [
       "Text(0.5, 0, 'epochs')"
      ]
     },
     "execution_count": 46,
     "metadata": {},
     "output_type": "execute_result"
    },
    {
     "data": {
      "image/png": "[encoded data removed]",
      "text/plain": [
       "<Figure size 432x288 with 1 Axes>"
      ]
     },
     "metadata": {
      "needs_background": "light"
     },
     "output_type": "display_data"
    }
   ],
   "source": [
    "import pandas as pd\n",
    "import matplotlib.pyplot as plt\n",
    "import seaborn as sns\n",
    "def form_dataframe(array, model_type, score_type):\n",
    "    return pd.DataFrame({'Score' : array, 'Model type' : [model_type]*len(array), 'Set' : [score_type]*len(array)})\n",
    "\n",
    "d = form_dataframe(trainl_gat_1, 'GAT based', 'Training')\n",
    "d = d.append(form_dataframe(vall_gat_1, 'GAT based', 'Validation'))\n",
    "d = d.append(form_dataframe(trainl_sage_1, 'GraphSAGE based', 'Training'))\n",
    "d = d.append(form_dataframe(vall_sage_1, 'GraphSAGE based', 'Validation'))\n",
    "d = d.reset_index()\n",
    "sns.lineplot(data=d[d['index']>0], x='index', y='Score', hue='Model type', style='Set')\n",
    "plt.xlabel('epochs')"
   ]
  },
  {
   "cell_type": "markdown",
   "metadata": {},
   "source": [
    "### c) Loading the GNN\n",
    "Be careful to select the correct model initialisation"
   ]
  },
  {
   "cell_type": "code",
   "execution_count": 62,
   "metadata": {},
   "outputs": [
    {
     "data": {
      "text/plain": [
       "<All keys matched successfully>"
      ]
     },
     "execution_count": 62,
     "metadata": {},
     "output_type": "execute_result"
    }
   ],
   "source": [
    "device = torch.device('cpu')\n",
    "model_path = 'model_weights/gat_deep_1.pt' # 'sage_deep_1\n",
    "#model = SageModel(node_features.shape[1], 64).to(device)\n",
    "device = torch.device('cuda')\n",
    "model = GATModel(node_features.shape[1], 64, 4, F.elu).to(device)\n",
    "model.load_state_dict(torch.load(model_path))"
   ]
  },
  {
   "cell_type": "markdown",
   "metadata": {},
   "source": [
    "## 2. Classifier training and prediction"
   ]
  },
  {
   "cell_type": "markdown",
   "metadata": {},
   "source": [
    "### a) Getting the GAE embeddings"
   ]
  },
  {
   "cell_type": "code",
   "execution_count": 70,
   "metadata": {},
   "outputs": [],
   "source": [
    "device = torch.device('cuda')\n",
    "node_embeddings = inference(model, device, graph, sampler)\n",
    "\n",
    "node_embeddings = torch.cat([node_embeddings.to(device),\n",
    " abstract_feat.to(device), feat_com_authors.to(device)], dim=1)\n",
    "input_size = node_embeddings.shape[1]\n",
    "\n",
    "node_embeddings = F.normalize(node_embeddings)\n"
   ]
  },
  {
   "cell_type": "code",
   "execution_count": 71,
   "metadata": {},
   "outputs": [],
   "source": [
    "epochs = 10\n",
    "mlp = MLP(n_hidden=64, n_input=2*input_size).to(device)\n",
    "optimizer = torch.optim.Adam(mlp.parameters(), lr=0.0005)\n",
    "criterion = nn.BCEWithLogitsLoss()"
   ]
  },
  {
   "cell_type": "markdown",
   "metadata": {},
   "source": [
    "### b) Training the classifier"
   ]
  },
  {
   "cell_type": "code",
   "execution_count": 72,
   "metadata": {},
   "outputs": [
    {
     "name": "stderr",
     "output_type": "stream",
     "text": [
      "100%|██████████| 960/960 [00:19<00:00, 48.04it/s, loss=0.273]\n"
     ]
    },
    {
     "name": "stdout",
     "output_type": "stream",
     "text": [
      "Epoch 0 : Train mean loss 0.3897887951383988 : Val mean loss 0.2682954192718613\n"
     ]
    },
    {
     "name": "stderr",
     "output_type": "stream",
     "text": [
      "100%|██████████| 960/960 [00:19<00:00, 50.13it/s, loss=0.240]\n"
     ]
    },
    {
     "name": "stdout",
     "output_type": "stream",
     "text": [
      "Epoch 1 : Train mean loss 0.24526286707259715 : Val mean loss 0.22770023373799902\n"
     ]
    },
    {
     "name": "stderr",
     "output_type": "stream",
     "text": [
      "100%|██████████| 960/960 [00:17<00:00, 53.62it/s, loss=0.211]\n"
     ]
    },
    {
     "name": "stdout",
     "output_type": "stream",
     "text": [
      "Epoch 2 : Train mean loss 0.21983866983403763 : Val mean loss 0.2108950471488115\n"
     ]
    },
    {
     "name": "stderr",
     "output_type": "stream",
     "text": [
      "100%|██████████| 960/960 [00:18<00:00, 51.95it/s, loss=0.186]\n"
     ]
    },
    {
     "name": "stdout",
     "output_type": "stream",
     "text": [
      "Epoch 3 : Train mean loss 0.2078529371569554 : Val mean loss 0.20562288917113689\n"
     ]
    },
    {
     "name": "stderr",
     "output_type": "stream",
     "text": [
      "100%|██████████| 960/960 [00:18<00:00, 52.81it/s, loss=0.168]\n"
     ]
    },
    {
     "name": "stdout",
     "output_type": "stream",
     "text": [
      "Epoch 4 : Train mean loss 0.20023727241593103 : Val mean loss 0.1992509129726998\n"
     ]
    },
    {
     "name": "stderr",
     "output_type": "stream",
     "text": [
      "100%|██████████| 960/960 [00:18<00:00, 52.59it/s, loss=0.197]\n"
     ]
    },
    {
     "name": "stdout",
     "output_type": "stream",
     "text": [
      "Epoch 5 : Train mean loss 0.19646068019792437 : Val mean loss 0.195591027770087\n"
     ]
    },
    {
     "name": "stderr",
     "output_type": "stream",
     "text": [
      "100%|██████████| 960/960 [00:19<00:00, 50.16it/s, loss=0.189]\n"
     ]
    },
    {
     "name": "stdout",
     "output_type": "stream",
     "text": [
      "Epoch 6 : Train mean loss 0.1929283699952066 : Val mean loss 0.19287924942012144\n"
     ]
    },
    {
     "name": "stderr",
     "output_type": "stream",
     "text": [
      "100%|██████████| 960/960 [00:20<00:00, 46.13it/s, loss=0.171]\n"
     ]
    },
    {
     "name": "stdout",
     "output_type": "stream",
     "text": [
      "Epoch 7 : Train mean loss 0.1911921294250836 : Val mean loss 0.19146838644954645\n"
     ]
    },
    {
     "name": "stderr",
     "output_type": "stream",
     "text": [
      "100%|██████████| 960/960 [00:21<00:00, 45.39it/s, loss=0.186]\n"
     ]
    },
    {
     "name": "stdout",
     "output_type": "stream",
     "text": [
      "Epoch 8 : Train mean loss 0.18860747637227177 : Val mean loss 0.18938810524539412\n"
     ]
    },
    {
     "name": "stderr",
     "output_type": "stream",
     "text": [
      "100%|██████████| 960/960 [00:19<00:00, 50.44it/s, loss=0.186]\n"
     ]
    },
    {
     "name": "stdout",
     "output_type": "stream",
     "text": [
      "Epoch 9 : Train mean loss 0.18647345298280318 : Val mean loss 0.18845436951824437\n"
     ]
    }
   ],
   "source": [
    "tl, vl = train_classif(\n",
    "    mlp, \n",
    "    node_embeddings, \n",
    "    train_classif_dataloader, \n",
    "    val_classif_dataloader, \n",
    "    criterion, \n",
    "    device,\n",
    "    optimizer, \n",
    "    epochs=10, \n",
    "    name_model='model_weigths/classif_gat_1.pt'\n",
    "    )"
   ]
  },
  {
   "cell_type": "code",
   "execution_count": 54,
   "metadata": {},
   "outputs": [],
   "source": [
    "tlgat = [0.3897887951383988, 0.24526286707259715, 0.21983866983403763, 0.2078529371569554, 0.20023727241593103, 0.19646068019792437, 0.1929283699952066, 0.1911921294250836, 0.18860747637227177, 0.18647345298280318]\n",
    "vlgat = [0.2682954192718613, 0.22770023373799902, 0.2108950471488115, 0.20562288917113689, 0.1992509129726998, 0.195591027770087, 0.19287924942012144, 0.19146838644954645, 0.18938810524539412, 0.18845436951824437]tlsage = [0.38225263625693817, 0.2180618903444459, 0.18075110646896064, 0.1630346020994087, 0.15348341800272464, 0.14742316585034132, 0.14273439107152322, 0.13925763135775923, 0.13708620006994654, 0.13524346203388024]\n",
    "tlsage = [0.38225263625693817, 0.2180618903444459, 0.18075110646896064, 0.1630346020994087, 0.15348341800272464, 0.14742316585034132, 0.14273439107152322, 0.13925763135775923, 0.13708620006994654, 0.13524346203388024]\n",
    "vlsage = [0.24926561618519721, 0.19635995930043337, 0.1731934068358947, 0.15888578103524503, 0.1521565997711966, 0.1446624057036694, 0.14346701860706382, 0.14008208621885174, 0.13949600572340956, 0.13672982901334763]"
   ]
  },
  {
   "cell_type": "code",
   "execution_count": 55,
   "metadata": {},
   "outputs": [
    {
     "data": {
      "text/plain": [
       "Text(0.5, 0, 'epochs')"
      ]
     },
     "execution_count": 55,
     "metadata": {},
     "output_type": "execute_result"
    },
    {
     "data": {
      "image/png": "[encoded data removed]",
      "text/plain": [
       "<Figure size 432x288 with 1 Axes>"
      ]
     },
     "metadata": {
      "needs_background": "light"
     },
     "output_type": "display_data"
    }
   ],
   "source": [
    "d = form_dataframe(tlgat, 'GAT based', 'Training')\n",
    "d = d.append(form_dataframe(vlgat, 'GAT based', 'Validation'))\n",
    "d = d.append(form_dataframe(tlsage, 'GraphSAGE based', 'Training'))\n",
    "d = d.append(form_dataframe(vlsage, 'GraphSAGE based', 'Validation'))\n",
    "d = d.reset_index()\n",
    "sns.lineplot(data=d, x='index', y='Score', hue='Model type', style='Set')\n",
    "plt.xlabel('epochs')"
   ]
  },
  {
   "cell_type": "markdown",
   "metadata": {},
   "source": [
    "### c) Loading the classifier\n"
   ]
  },
  {
   "cell_type": "code",
   "execution_count": null,
   "metadata": {},
   "outputs": [],
   "source": [
    "mlp = MLP(n_hidden=64, n_input=2*input_size).to(device)\n",
    "mlp.load_state_dict(torch.load('model_weights/classif_gat_1.pt')) #'classif_sage_1.pt'"
   ]
  },
  {
   "cell_type": "markdown",
   "metadata": {},
   "source": [
    "### d) Prediction on the test set"
   ]
  },
  {
   "cell_type": "code",
   "execution_count": 26,
   "metadata": {},
   "outputs": [],
   "source": [
    "X_test = retrieve_embeddings(G_dir, node_embeddings)\n",
    "\n",
    "with torch.no_grad():\n",
    "    y_tens = torch.sigmoid(mlp(X_test.to(device))).cpu().numpy()\n",
    "y_pred = y_tens[:,0]\n",
    "\n",
    "\n",
    "predictions = zip(range(len(y_pred)), y_pred)\n",
    "with open(\"sub_gat_1.csv\",\"w\") as pred:\n",
    "    csv_out = csv.writer(pred)\n",
    "    csv_out.writerow(['id','predicted'])\n",
    "    for row in predictions:\n",
    "        csv_out.writerow(row) "
   ]
  }
 ],
 "metadata": {
  "interpreter": {
   "hash": "c6c713541ad13855d4a4355aac6ffc47bbcd60df7053ae4f5574f5a879b69510"
  },
  "kernelspec": {
   "display_name": "Python 3.8.5 ('base')",
   "language": "python",
   "name": "python3"
  },
  "language_info": {
   "codemirror_mode": {
    "name": "ipython",
    "version": 3
   },
   "file_extension": ".py",
   "mimetype": "text/x-python",
   "name": "python",
   "nbconvert_exporter": "python",
   "pygments_lexer": "ipython3",
   "version": "3.8.5"
  },
  "orig_nbformat": 4
 },
 "nbformat": 4,
 "nbformat_minor": 2
}
